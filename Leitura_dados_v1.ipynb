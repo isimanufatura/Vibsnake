{
  "nbformat": 4,
  "nbformat_minor": 0,
  "metadata": {
    "colab": {
      "provenance": [],
      "authorship_tag": "ABX9TyPyRPnFQdLSS5PCiNdPxEDM",
      "include_colab_link": true
    },
    "kernelspec": {
      "name": "python3",
      "display_name": "Python 3"
    },
    "language_info": {
      "name": "python"
    }
  },
  "cells": [
    {
      "cell_type": "markdown",
      "metadata": {
        "id": "view-in-github",
        "colab_type": "text"
      },
      "source": [
        "<a href=\"https://colab.research.google.com/github/isimanufatura/Vibsnake/blob/main/Leitura_dados_v1.ipynb\" target=\"_parent\"><img src=\"https://colab.research.google.com/assets/colab-badge.svg\" alt=\"Open In Colab\"/></a>"
      ]
    },
    {
      "cell_type": "code",
      "execution_count": null,
      "metadata": {
        "id": "jcg0_xYU8bPk"
      },
      "outputs": [],
      "source": [
        "import pandas as pd                 # biblioteca para importar informações\n",
        "import matplotlib.pyplot as plt     # biblioteca de gráfico\n",
        "from scipy.signal import find_peaks # encontrar picos\n",
        "from statistics import mean, mode   # biblioteca estatística\n",
        "\n",
        "#Leitura das informações\n",
        "nome = 'Teste_Vribracao_Livre.lvm'\n",
        "\n",
        "dado = pd.read_csv(nome, header = 21, sep = '\\s+', decimal=\",\")\n",
        "\n",
        "dados = dado.drop(columns=['Comment']) #exclusão da coluna de comentários\n",
        "\n",
        "dados.columns = ['Tempo [s]', 'Aceleracao [m/s2]'] #nomeando as colunas\n",
        "\n",
        "# Cortando os dados de forma arbitrária\n",
        "dados_certos = dados.iloc[3000:,:]\n",
        "dados_certos.reset_index(drop=True, inplace=True) #reordenar os index\n",
        "\n",
        "#Encontrar os picos\n",
        "peaks,_ = find_peaks(dados_certos['Aceleracao [m/s2]'], height=0.1)\n",
        "picos= dados_certos.iloc[peaks]\n",
        "\n",
        "# Calculo da frequência\n",
        "freq = []\n",
        "\n",
        "for i in range(len(picos)-1):\n",
        "\n",
        "    ti = picos.iloc[i, 0]\n",
        "    tf = picos.iloc[i+1, 0]\n",
        "\n",
        "    print(ti)\n",
        "\n",
        "    freqi = int(1/(tf-ti))\n",
        "\n",
        "    freq.append(freqi)\n",
        "\n",
        "media = mean(freq)\n",
        "moda = mode(freq)\n",
        "\n",
        "info = dados_certos['Aceleracao [m/s2]']\n",
        "\n",
        "#plot dos picos\n",
        "plt.plot(info, label = 'Aceleração')\n",
        "plt.plot(peaks, info[peaks], \"x\", label = 'Picos')\n",
        "plt.xlabel('Tempo [s]')\n",
        "plt.ylabel('Aceleração [m/s²]')\n",
        "plt.legend()\n",
        "plt.show()\n",
        "\n",
        "\n",
        "\n",
        "\n",
        "\n",
        "\n",
        "\n",
        "\n",
        "\n"
      ]
    }
  ]
}