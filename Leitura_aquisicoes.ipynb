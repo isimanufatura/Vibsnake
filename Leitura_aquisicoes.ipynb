{
  "nbformat": 4,
  "nbformat_minor": 0,
  "metadata": {
    "colab": {
      "provenance": [],
      "authorship_tag": "ABX9TyMqg6nHBHVMbpY0lQuQrDgV",
      "include_colab_link": true
    },
    "kernelspec": {
      "name": "python3",
      "display_name": "Python 3"
    },
    "language_info": {
      "name": "python"
    }
  },
  "cells": [
    {
      "cell_type": "markdown",
      "metadata": {
        "id": "view-in-github",
        "colab_type": "text"
      },
      "source": [
        "<a href=\"https://colab.research.google.com/github/isimanufatura/Vibsnake/blob/main/Leitura_aquisicoes.ipynb\" target=\"_parent\"><img src=\"https://colab.research.google.com/assets/colab-badge.svg\" alt=\"Open In Colab\"/></a>"
      ]
    },
    {
      "cell_type": "code",
      "execution_count": null,
      "metadata": {
        "id": "o4t0b5aPRfKL"
      },
      "outputs": [],
      "source": [
        "import pandas as pd\n",
        "import numpy as np\n",
        "import matplotlib.pyplot as plt\n",
        "import random\n",
        "\n",
        "def valeria():\n",
        "    print('oi')\n",
        "\n",
        "if __name__ == \"__main__\":\n",
        "\n",
        "    linestyles = ['-', '--', '-.', ':']\n",
        "   # frequencias = [5, 10, 20, 30, 40, 60, 100]\n",
        "    frequencias = [5, 100]\n",
        "\n",
        "    files = [f\"dados\\Acelerômetro_{i}Hz_1.lvm\" for i in frequencias]\n",
        "\n",
        "    syscoor = [\"+\", \"+\", \"+\", \"+\"]\n",
        "    data = pd.DataFrame([])\n",
        "    time = np.arange(0,24,0.012)\n",
        "    last_values = 0\n",
        "    to_debug = []\n",
        "\n",
        "    f, ax = plt.subplots(1)\n",
        "\n",
        "    for idx, (file) in enumerate(files):\n",
        "\n",
        "        ls = random.choice(linestyles)\n",
        "\n",
        "        aux = pd.read_csv(file, sep='\\s+', skiprows=22, decimal=\",\")\n",
        "\n",
        "        dados = aux.drop(columns=['Comment']) #exclusão da coluna de comentários\n",
        "\n",
        "        # Cortando os dados de forma arbitrária (após 1s)\n",
        "        dados_certos = dados[dados['X_Value'] > 1.0]\n",
        "\n",
        "        ax.plot(dados_certos['X_Value'], dados_certos['Acceleration'],\n",
        "                linestyle = ls, label= f\"{frequencias[idx]} Hz\")\n",
        "\n",
        "    ax.set_title(\"Frequências de Aquisição\")\n",
        "    ax.set_ylabel(\"Aceleração [m/s^2]\")\n",
        "    ax.set_xlabel(\"Tempo [s]\")\n",
        "    plt.legend()"
      ]
    }
  ]
}