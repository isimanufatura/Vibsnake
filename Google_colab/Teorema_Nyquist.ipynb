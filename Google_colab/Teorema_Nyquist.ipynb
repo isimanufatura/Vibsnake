{
  "nbformat": 4,
  "nbformat_minor": 0,
  "metadata": {
    "colab": {
      "provenance": [],
      "authorship_tag": "ABX9TyPzhJfQWpp84rK+AhNhCLSu",
      "include_colab_link": true
    },
    "kernelspec": {
      "name": "python3",
      "display_name": "Python 3"
    },
    "language_info": {
      "name": "python"
    }
  },
  "cells": [
    {
      "cell_type": "markdown",
      "metadata": {
        "id": "view-in-github",
        "colab_type": "text"
      },
      "source": [
        "<a href=\"https://colab.research.google.com/github/isimanufatura/Vibsnake/blob/main/Teorema_Nyquist.ipynb\" target=\"_parent\"><img src=\"https://colab.research.google.com/assets/colab-badge.svg\" alt=\"Open In Colab\"/></a>"
      ]
    },
    {
      "cell_type": "code",
      "execution_count": null,
      "metadata": {
        "id": "2_LHZ2PwRzpU"
      },
      "outputs": [],
      "source": [
        "import numpy as np\n",
        "import matplotlib.pyplot as plt\n",
        "\n",
        "# Sinal original: seno de 5 Hz\n",
        "frequencia_sinal = 5  # Hz\n",
        "tempo_continuo = np.linspace(0, 1, 1000)  # tempo \"contínuo\" de 0 a 1 segundo\n",
        "sinal_original = np.sin(2 * np.pi * frequencia_sinal * tempo_continuo)\n",
        "\n",
        "# Amostragem com taxa adequada (20 Hz > 2 * 5 Hz)\n",
        "taxa_adequada = 20  # Hz\n",
        "t_adequada = np.linspace(0, 1, int(taxa_adequada) + 1)\n",
        "s_adequada = np.sin(2 * np.pi * frequencia_sinal * t_adequada)\n",
        "\n",
        "# Amostragem com taxa insuficiente (6 Hz < 2 * 5 Hz)\n",
        "taxa_insuficiente = 6  # Hz\n",
        "t_insuficiente = np.linspace(0, 1, int(taxa_insuficiente) + 1)\n",
        "s_insuficiente = np.sin(2 * np.pi * frequencia_sinal * t_insuficiente)\n",
        "\n",
        "# Plotagem\n",
        "fig, axs = plt.subplots(2, 1, figsize=(10, 6), sharex=True)\n",
        "\n",
        "\n",
        "# Sem aliasing\n",
        "axs[0].plot(tempo_continuo, sinal_original, label='Sinal original (5 Hz)')\n",
        "axs[0].stem(t_adequada, s_adequada, linefmt='C1-', markerfmt='C1o', basefmt=\" \", label='Amostras (20 Hz)')\n",
        "axs[0].set_title('Amostragem adequada (20 Hz)')\n",
        "axs[0].legend()\n",
        "axs[0].grid(True)\n",
        "\n",
        "# Com aliasing\n",
        "axs[1].plot(tempo_continuo, sinal_original, label='Sinal original (5 Hz)')\n",
        "axs[1].stem(t_insuficiente, s_insuficiente, linefmt='C2-', markerfmt='C2o', basefmt=\" \", label='Amostras (6 Hz)')\n",
        "axs[1].set_title('Amostragem insuficiente (6 Hz) → Aliasing')\n",
        "axs[1].legend()\n",
        "axs[1].grid(True)\n",
        "\n",
        "plt.xlabel('Tempo (s)')\n",
        "plt.tight_layout()\n",
        "plt.show()\n"
      ]
    }
  ]
}